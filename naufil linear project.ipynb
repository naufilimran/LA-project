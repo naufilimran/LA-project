{
 "cells": [
  {
   "cell_type": "markdown",
   "metadata": {
    "id": "vqXdyc6e2vbf"
   },
   "source": [
    "# Computational Project 2: Linear Regression\n",
    "\n",
    "In this project, our goals are \n",
    "+ to understand the linear algebra behind linear regression (projections; least squares)\n",
    "+ to apply linear regression to real datasets (large!)\n",
    "\n",
    "\n",
    "Please refer to the Tutorial Videos and files for reference on matrix computation with python.\n",
    "\n",
    "This project is due on Friday December 16th, 11:59 PM EST on Gradescope."
   ]
  },
  {
   "cell_type": "markdown",
   "metadata": {
    "id": "HokoYt5JA7DA"
   },
   "source": [
    "## Background\n",
    "\n",
    "Given an $m\\times n$ matrix $A$ and a vector $\\vec b \\in \\mathbb{R}^m$, the **Least Squares Problem** asks us to find a vector $\\widehat x$ such that $A \\widehat x$ is as close as possible to the $\\vec b$.   That is, to find a vector $\\widehat x$ that makes the square of the norm $\\lVert A \\widehat x - \\vec b \\rVert$ as small as possible.\n",
    "\n",
    "**Linear regression**---the problem of fitting a curve through a given set of data points---can be formulated as a least squares problem, by building the appropriate matrix $A$ and vector $\\vec b$ from the given data points and based on the desired model (line, curve, etc.).\n",
    "\n",
    "\n",
    "## Your Project\n",
    "\n",
    "This project has several parts:\n",
    "+ **Part 1: Warm-Up**\n",
    "\n",
    "   In this part, you will be given a small set of data points, similar to what we have worked with in class and in homework problems.  You will fit a line and a curve through these data points.  Instead of doing the matrix computations by hand, however, we will use python.\n",
    "   \n",
    "+ **Part 2: Larger Dataset**\n",
    "\n",
    "   In this part, you will work with a larger dataset.  Conceptually, this part will be identical to Part 2. The main difference is that you will have to work with much larger matrices and vectors.\n",
    "   \n",
    "+ **Part 3: Multivariate Linear Regression**\n",
    "\n",
    "  In this part, you will again work with a small set of data points.  However, instead of working with data that has one input (\"$x$\") and one output (\"$y$\"), we will work with \"multivariate data\": several inputs (\"$x_1, x_2, \\ldots, x_n$\") and one output (\"$y$\").\n"
   ]
  },
  {
   "cell_type": "markdown",
   "metadata": {
    "id": "OXhial89Ob9R"
   },
   "source": [
    "### Part Zero: Setup\n",
    "\n",
    "We will need to use the packages `numpy` and `scipy`.  **In the code cell below, please import them as `np` and `sp`, respectively**.\n",
    "\n",
    "The package `matplotlib.pyplot` has been imported as `plt`; this package is used to plot curves, so that we can visualize our data and the curves we fit.  ***You do not need to know anything about how this package is used***; the code that plot the curves has already been written and do not need to be modified; you only need to complete the linear algebraic portions."
   ]
  },
  {
   "cell_type": "code",
   "execution_count": 15,
   "metadata": {
    "id": "SkzQi5auOaj4"
   },
   "outputs": [],
   "source": [
    "import numpy as np\n",
    "import scipy as sp\n",
    "\n",
    "\n",
    "# Do not modify the code below the line \n",
    "#------------------------------------------------------- \n",
    "import pandas as pd\n",
    "import matplotlib.pyplot as plt\n",
    "from mpl_toolkits.mplot3d import Axes3D\n",
    "from matplotlib import cm\n",
    "from matplotlib.ticker import LinearLocator, FormatStrFormatter\n",
    "\n",
    "%matplotlib inline"
   ]
  },
  {
   "cell_type": "markdown",
   "metadata": {
    "id": "dml2o8N_F20j"
   },
   "source": [
    "### Part One: Warm-Up\n",
    "\n",
    "Linear regression is useful when we are trying to find the relationship between two variables.  For example, suppose that we would like to see if there is a relationship between height ($x$) and weight ($y$).\n",
    "\n",
    "Below is the height and weight of 5 individuals, where height is in centimeters and weight is in kilograms.\n",
    "\n",
    "<table>\n",
    "  <tr>\n",
    "    <th>Height ($x$)</th>\n",
    "    <th>Weight ($y$)</th>\n",
    "  </tr>\n",
    "  <tr>\n",
    "    <td>178</td>\n",
    "    <td>69</td>\n",
    "  </tr>\n",
    "  <tr>\n",
    "    <td>160</td>\n",
    "    <td>58</td>\n",
    "  </tr>\n",
    "  <tr>\n",
    "    <td>168</td>\n",
    "    <td>63</td>\n",
    "  </tr>\n",
    "  <tr>\n",
    "    <td>150</td>\n",
    "    <td>53</td>\n",
    "  </tr>\n",
    "  <tr>\n",
    "    <td>147</td>\n",
    "    <td>52</td>\n",
    "  </tr>\n",
    "</table>\n",
    "\n",
    "\n",
    "\n",
    "\n",
    "\n",
    "**Your Tasks**\n",
    "+ **Part 1A: Line of best fit**\n",
    "\n",
    "   The data points have been plotted, along with an example of a line through the data.  Your task is to find the line that would fit the data best.  The equation for this line would describe weight as a function of height.  (That is, we are using height to predict weight.)\n",
    "   \n",
    "   You can type in the matrix A and the vector b that you would be using the in the code cell for Part 1A below.\n",
    "  \n",
    "+ **Part 1B: Polynomial curve of best fit**\n",
    "\n",
    "   The data points have been plotted, along with an example of a parabolic curve through the data.  Your task is to find the polynomial curve that would fit the data best.\n",
    "   \n",
    "   You can type in the matrix A and the vector b that you would be using the in the code cell for Part 1B below.\n",
    "   \n",
    "\n",
    "+ **Part 1C: Interpretation**\n",
    "\n",
    "    You will be asked to comment on whether you think the line or the parabolic curve that you found describes well the relationship between the two variables.\n",
    "\n"
   ]
  },
  {
   "cell_type": "markdown",
   "metadata": {
    "id": "cz71UIj7zK8O"
   },
   "source": [
    "#### Part 1A: Line of best fit"
   ]
  },
  {
   "cell_type": "code",
   "execution_count": 16,
   "metadata": {
    "colab": {
     "base_uri": "https://localhost:8080/",
     "height": 265
    },
    "executionInfo": {
     "elapsed": 616,
     "status": "ok",
     "timestamp": 1553728979247,
     "user": {
      "displayName": "Mutiara Sondjaja",
      "photoUrl": "",
      "userId": "05827979022255317146"
     },
     "user_tz": 240
    },
    "id": "xCGCgVErvMxQ",
    "outputId": "28baeead-74f6-476f-df8f-dfba73c1a099"
   },
   "outputs": [
    {
     "name": "stdout",
     "output_type": "stream",
     "text": [
      "[-29.97710623   0.5540293 ]\n"
     ]
    },
    {
     "data": {
      "image/png": "[encoded data removed]",
      "text/plain": [
       "<Figure size 432x288 with 1 Axes>"
      ]
     },
     "metadata": {
      "needs_background": "light"
     },
     "output_type": "display_data"
    }
   ],
   "source": [
    "# Your code for Part 1 A: Line of best fit\n",
    "import numpy.linalg as la\n",
    "#importing the library to use it.\n",
    "# Formulate A and b, then solve the least squares problem\n",
    "\n",
    "A = np.array([[1,178],\n",
    "            [1,160],\n",
    "            [1,168],\n",
    "            [1,150],\n",
    "            [1,147]])\n",
    "b = np.array([69,58,63,53,52])\n",
    "a_t_a=A.T@A\n",
    "inverse = la.inv(a_t_a)\n",
    "x_hat=inverse@A.T@b\n",
    "print(x_hat)\n",
    "\n",
    "\n",
    "# PLEASE UPDATE the value of c_0 and c_1 below based on the solution you obtained\n",
    "\n",
    "#  These current values below are just placeholders.\n",
    "#  As you change the values of c_0 and c_1, the line plotted below also changes.\n",
    "c_0 = -29.97710623 # y-intercept \n",
    "c_1 = 0.5540293 # slope\n",
    "\n",
    "\n",
    "# Do not modify the code below the line \n",
    "#-------------------------------------------------------\n",
    "# Visualizing the data and the regression line\n",
    "X = [178, 160, 168, 150, 147]\n",
    "Y = [69, 58, 63, 53, 52]\n",
    "t = np.arange(145, 180, 1)\n",
    "Y_line = c_1 * t + c_0\n",
    "plt.plot( X, Y, 'bo' )\n",
    "plt.plot( t, Y_line, 'r' )\n",
    "plt.show( )"
   ]
  },
  {
   "cell_type": "markdown",
   "metadata": {
    "id": "nhbxC5H5zPFP"
   },
   "source": [
    "#### Part 1B: Polynomial curve of best fit\n",
    "\n",
    "Please fit a polynomial curve through the same five points.  You can choose to fit a parabola ($y = c_2 x^2 + c_1x + c_0$) or other polynomial curves of higher degrees.  \n",
    "\n",
    "Since we only have 5 data points, you can choose to fit a polynomial of degree 2, 3, 4, or 5. \n"
   ]
  },
  {
   "cell_type": "code",
   "execution_count": 17,
   "metadata": {
    "colab": {
     "base_uri": "https://localhost:8080/",
     "height": 265
    },
    "executionInfo": {
     "elapsed": 563,
     "status": "ok",
     "timestamp": 1553727660614,
     "user": {
      "displayName": "Mutiara Sondjaja",
      "photoUrl": "",
      "userId": "05827979022255317146"
     },
     "user_tz": 240
    },
    "id": "0NRuwgsEvVwn",
    "outputId": "3dba123b-277b-4501-d139-1d7549b874b7"
   },
   "outputs": [
    {
     "name": "stdout",
     "output_type": "stream",
     "text": [
      "[ 3.77719999e-03 -6.70544468e-01  6.87715753e+01]\n"
     ]
    },
    {
     "data": {
      "image/png": "[encoded data removed]",
      "text/plain": [
       "<Figure size 432x288 with 1 Axes>"
      ]
     },
     "metadata": {
      "needs_background": "light"
     },
     "output_type": "display_data"
    }
   ],
   "source": [
    "# Your code for Part 1 B: Polynomial Curve of best fit\n",
    "\n",
    "# Formulate A and b, then solve the least squares problem\n",
    "##y= ax^2+bx+c\n",
    "point_1=178**2\n",
    "point_2=160**2\n",
    "point_3=168**2\n",
    "point_4=150**2\n",
    "point_5=147**2\n",
    "A_poly = np.array([[point_1, 178, 1],\n",
    "                   [point_2, 160,1],\n",
    "                   [point_3,168,1],\n",
    "                   [point_4,150,1],\n",
    "                   [point_5,147,1]])\n",
    "b_poly = np.array([69,58,63,53,52])\n",
    "a_t_a_poly= A_poly.T@A_poly\n",
    "inverse_poly = la.inv(a_t_a_poly)\n",
    "x_hat_poly=inverse_poly@A_poly.T@b_poly\n",
    "print(x_hat_poly)\n",
    "\n",
    "\n",
    "\n",
    "# PLEASE UPDATE the value of c_0 and c_1 below based on the solution you obtained\n",
    "\n",
    "#  These current values below are just placeholders.\n",
    "#  As you change the values of c_i's, the line plotted below also changes.\n",
    "#  If you are only fitting a polynomial of degree 2, then leave the coefficients\n",
    "#     of higher degree terms to be 0; etc.\n",
    "c_0 = 6.87715753e+01 # y-intercept \n",
    "c_1 = -6.70544468e-01 # coefficient of x term\n",
    "c_2 = 3.77719999e-03 # coefficient of x^2 term\n",
    "c_3 = 0 # coefficient of x^3 term\n",
    "c_4 = 0 # coefficient of x^4 term\n",
    "c_5 = 0 # coefficient of x^5 term\n",
    "\n",
    "\n",
    "# Do not modify the code below the line \n",
    "#-------------------------------------------------------\n",
    "# Visualizing the data and the regression curve\n",
    "X = [177.80, 160.02, 167.64, 149.86, 147.32]\n",
    "Y = [69.30, 58.05, 62.55, 52.65, 51.75]\n",
    "t = np.arange(145, 180, 1)\n",
    "Y_line = c_5 * (t ** 5) + c_4 * (t ** 4) + c_3 * (t ** 3) + c_2 * (t ** 2) + c_1 * t + c_0\n",
    "Y_line = Y_line\n",
    "plt.plot( t, Y_line, 'r' )\n",
    "plt.plot( X, Y, 'bo' )\n",
    "plt.show( )"
   ]
  },
  {
   "cell_type": "markdown",
   "metadata": {
    "id": "1CKDolaPRCsS"
   },
   "source": [
    "#### Part 1C: Interpretation\n",
    "\n",
    "Please comment on the best fit line and parabolic curve that you found in Parts 1A and 1B:\n",
    "+ Does the line you found fit the data relatively well? \n",
    "+ Does the curve you found fit the data relatively well?\n",
    "+ Do you think that the line or the curve you found describes well the relationship between the two variables?"
   ]
  },
  {
   "cell_type": "markdown",
   "metadata": {
    "id": "EcSkKMuhRCsT"
   },
   "source": [
    "Q1(c): The line and the curve both fit the data relatively well. Both the line and curve I believe describes the relationship well, as an increase in height shows that higher the height, the more weight a person has."
   ]
  },
  {
   "cell_type": "markdown",
   "metadata": {
    "id": "jKmtrb57F4Ha"
   },
   "source": [
    "### Part Two: A Larger Dataset\n",
    "\n",
    " Get the Annual temperature data from 1880 to 2016 (137 data points) from the link provided below.  Here, the temperature data has been \"normalized\" to take a value between -1 and 1.\n",
    "\n",
    "*(Source: The original data set is from https://datahub.io/core/global-temp)*\n",
    "\n",
    "\n",
    "\n",
    "**Your Tasks**\n",
    "+ **Part 2A: Importing the data**\n",
    "You have two options: \n",
    "1) One option is to re-format the data so that it works with the code below.\n",
    "2) Modify the code so that it works with the data as you have stored it. \n",
    "\n",
    "This code cell simply gets python to get the dataset and store it, so that we can work with it.  Some explanation:\n",
    "  + The line of code that says `data.head(10)` tells python to display the first 10 points stored in the name 'data'.\n",
    "  \n",
    "    As you can see, there are two columns in this table, the 'Year' column and the 'Mean' column (which contains the mean global temperature of that year).\n",
    "  \n",
    "  + The vector called `year` is a column vector containing just the numbers in the 'Year' column.\n",
    "  + The vector called `temp` is a column vector containing just the numbers in the 'Mean' column.\n",
    "\n",
    "  You will work with these two vectors (`year` and `temp`).\n",
    "  \n",
    "+ **Part 2B: Line of best fit**\n",
    "\n",
    "   The data points have been plotted, along with an example of a line through the data.  Your task is to find the line that would fit the data best.\n",
    "   \n",
    "   Conceptually, the work that you will do in this part is identical to what you did in Part 1A.  However, in Part 1A, we only had a very small dataset, which means that you could specify the entries of the matrix $A$ and the vector $\\vec b$ by hand.\n",
    "   \n",
    "   In this part, however, we have 137 data points, which means that typing in the entries of the matrix / vector by hand might be tedious.\n",
    "   \n",
    "   Luckily, we have two vectors that helps us get started: the vector `year` and `temp`.  You can use these vectors to help specify the matrix $A$ and the vector $\\vec b$.\n",
    "   \n",
    "   \n",
    "+ **Part 2C: Interpretation**\n",
    "\n",
    "    You will be asked to comment on whether you think that global temperature has indeed change linearly with time.  (That is, comment whether it even makes sense to try to fit a line through these data points.  Should we have fitted some other types of curve)"
   ]
  },
  {
   "cell_type": "markdown",
   "metadata": {
    "id": "cQ1i_DL7ziUF"
   },
   "source": [
    "#### Part 2A: Importing the data"
   ]
  },
  {
   "cell_type": "code",
   "execution_count": 18,
   "metadata": {},
   "outputs": [
    {
     "name": "stdout",
     "output_type": "stream",
     "text": [
      "    Source  Year    Mean\n",
      "0     GCAG  2016  0.9363\n",
      "1  GISTEMP  2016  0.9900\n",
      "2     GCAG  2015  0.8998\n",
      "3  GISTEMP  2015  0.8700\n",
      "4     GCAG  2014  0.7408\n",
      "5  GISTEMP  2014  0.7400\n",
      "6     GCAG  2013  0.6679\n",
      "7  GISTEMP  2013  0.6500\n",
      "8     GCAG  2012  0.6240\n",
      "9  GISTEMP  2012  0.6300\n"
     ]
    }
   ],
   "source": [
    "# Part 2A: Importing the data\n",
    "\n",
    "# You do not need to change anything in this code cell.  Simply run the cell.\n",
    "# Download the data and storing it in a \"data frame\" (a table) called 'data'\n",
    "data = pd.read_csv('annualtemp_excel.csv')\n",
    "\n",
    "# Take a peek at the first 10 data points:\n",
    "print(data.head( 10 ))\n",
    "# Store the Year column in a column vector called 'year'\n",
    "year = np.matrix(data['Year']).T\n",
    "# Store the Mean column in a column vector called 'temp'\n",
    "temp = np.matrix(data['Mean']).T\n"
   ]
  },
  {
   "cell_type": "markdown",
   "metadata": {
    "id": "CBj9220RzgTv"
   },
   "source": [
    "#### Part 2B: Line of best fit"
   ]
  },
  {
   "cell_type": "code",
   "execution_count": 19,
   "metadata": {},
   "outputs": [],
   "source": [
    "#Q2(b) Helping code written to solve part 2b\n",
    "matrix_A = np.zeros((274,2))  # a single vector of ones\n",
    "year_col= data['Year'].to_numpy()\n",
    "temp_col=data['Mean'].to_numpy()\n",
    "year_matrix=year_col.reshape(-1,1)\n",
    "for i in range(274):\n",
    "    matrix_A[i][1]=year_matrix[i][0]\n",
    "    matrix_A[i][0]=1"
   ]
  },
  {
   "cell_type": "code",
   "execution_count": 20,
   "metadata": {
    "colab": {
     "base_uri": "https://localhost:8080/",
     "height": 265
    },
    "executionInfo": {
     "elapsed": 599,
     "status": "ok",
     "timestamp": 1553723355302,
     "user": {
      "displayName": "Mutiara Sondjaja",
      "photoUrl": "",
      "userId": "05827979022255317146"
     },
     "user_tz": 240
    },
    "id": "RxMRQJftGDlY",
    "outputId": "c8d7a378-a908-41c3-a5a0-147654862a16"
   },
   "outputs": [
    {
     "name": "stdout",
     "output_type": "stream",
     "text": [
      "[-1.35745316e+01  6.98722768e-03]\n"
     ]
    },
    {
     "data": {
      "image/png": "[encoded data removed]",
      "text/plain": [
       "<Figure size 432x288 with 1 Axes>"
      ]
     },
     "metadata": {
      "needs_background": "light"
     },
     "output_type": "display_data"
    }
   ],
   "source": [
    "# Part 2B: Line of best fit\n",
    "\n",
    "\n",
    "\n",
    "# Formulate A and b, then solve the least squares problem\n",
    "A_1 = matrix_A\n",
    "b_1 = temp_col\n",
    "a_t_a_1=A_1.T@A_1\n",
    "\n",
    "inverse_1 = la.inv(a_t_a_1)\n",
    "x_hat_1=inverse_1@A_1.T@b_1\n",
    "print(x_hat_1)\n",
    "\n",
    "\n",
    "# PLEASE UPDATE the value of c_0 and c_1 below based on the solution you obtained\n",
    "\n",
    "#  These current values below are just placeholders.\n",
    "#  As you change the values of c_0 and c_1, the line plotted below also changes.\n",
    "c_0 = -1.35745316e+01 # y-intercept \n",
    "c_1 = 6.98722768e-03 # slope\n",
    "\n",
    "\n",
    "\n",
    "# Do not modify the code below the line \n",
    "#-------------------------------------------------------\n",
    "# Visualizing the data and the regression line\n",
    "X = [1, 2, 3, 4]\n",
    "Y = [2, 4, 5, 6]\n",
    "t = np.arange(1870, 2025, 0.1)\n",
    "Y_line = c_1 * t + c_0\n",
    "plt.plot( year, temp, 'bo' )\n",
    "plt.plot( t, Y_line, 'r' )\n",
    "plt.show( )"
   ]
  },
  {
   "cell_type": "markdown",
   "metadata": {
    "id": "7rh6Mf6MPBW_"
   },
   "source": [
    "#### Part 2C: Interpretation\n",
    "\n",
    "Please comment on the best fit line that you found in Part 2B:\n",
    "+ Does the line you found fit the data relatively well?\n",
    "+ Do you think that global temperature has indeed change linearly with time?  That is, do you think that a line accurately describes how global temperature changes with respect to time?  Should we have fitted some other type of curve?"
   ]
  },
  {
   "cell_type": "markdown",
   "metadata": {
    "id": "hmPJMTLwNGVg"
   },
   "source": [
    "Q2(C)The line fits the data relatively well, altough the number of negative residuals is greater than the number of postitive residuals. Yes as the years have passed the data suggests that global teamperatures change increase. A polynomial curve would have been able to capture more data accurately and fit well.\n"
   ]
  },
  {
   "cell_type": "markdown",
   "metadata": {
    "id": "nsOLOscFGDyo"
   },
   "source": [
    "### Part Three: Multivariate Linear Regression\n",
    "\n",
    "Sometimes, we are interested in seeing how several input variables ($x_1, x_2, \\ldots, x_n$) are related to the value of an output variable ($y$).\n",
    "\n",
    "For example:\n",
    "+ We might be interested in examining how crime rate ($y$) in a community is related to median income ($x_1$) and unemployment rate ($x_2$) in that community.\n",
    "+ We might be interested in examining how popular a social media post is (let's say $y$ = number of retweets) as a function of the length of the post ($x_1$), the number of followers of that account ($x_2$), the frequency of positive-sentiment words used on that post ($x_3$), and the frequency of negative-sentiment words used on that post ($x_4$).\n",
    "\n",
    "\n",
    "Below is a small dataset with two input variables ($x_1, x_2$) and one output variable ($y$) that we will work with.\n",
    "\n",
    "<table>\n",
    "  <tr>\n",
    "    <th>$x_1$</th>\n",
    "    <th>$x_2$</th>\n",
    "    <th>$y$</th>\n",
    "  </tr>\n",
    "  <tr>\n",
    "    <td>3</td>\n",
    "    <td>2</td>\n",
    "    <td>5</td>\n",
    "  </tr>\n",
    "  <tr>\n",
    "    <td>-1</td>\n",
    "    <td>-2</td>\n",
    "    <td>0</td>\n",
    "  </tr>\n",
    "  <tr>\n",
    "    <td>-2</td>\n",
    "    <td>5</td>\n",
    "    <td>7</td>\n",
    "  </tr>\n",
    "  <tr>\n",
    "    <td>4</td>\n",
    "    <td>-5</td>\n",
    "    <td>3</td>\n",
    "  </tr>\n",
    "  <tr>\n",
    "    <td>-5</td>\n",
    "    <td>1</td>\n",
    "    <td>-2</td>\n",
    "  </tr>\n",
    "</table>\n",
    "\n",
    "\n",
    "\n",
    "\n",
    "\n",
    "**Your Tasks**\n",
    "+ **Part 3A: Plane of best fit**\n",
    "\n",
    "   Find the coefficients $c_1$ and $c_2$ for the plane $y = c_1 x_1 + c_2 x_2$ that best fits the small dataset above\n",
    "  \n",
    "+ **Part 3B: Interpretation**\n",
    "\n",
    "    Interpret your results\n"
   ]
  },
  {
   "cell_type": "code",
   "execution_count": 21,
   "metadata": {
    "colab": {
     "base_uri": "https://localhost:8080/",
     "height": 248
    },
    "executionInfo": {
     "elapsed": 617,
     "status": "ok",
     "timestamp": 1553729046500,
     "user": {
      "displayName": "Mutiara Sondjaja",
      "photoUrl": "",
      "userId": "05827979022255317146"
     },
     "user_tz": 240
    },
    "id": "8rmBq5m2GUPZ",
    "outputId": "5b9593e8-1f08-4ded-8e23-6bdf31bd666b"
   },
   "outputs": [
    {
     "name": "stdout",
     "output_type": "stream",
     "text": [
      "[2.6086262  0.87300319 0.8298722 ]\n"
     ]
    },
    {
     "data": {
      "image/png": "[encoded data removed]",
      "text/plain": [
       "<Figure size 432x288 with 1 Axes>"
      ]
     },
     "metadata": {
      "needs_background": "light"
     },
     "output_type": "display_data"
    }
   ],
   "source": [
    "# Part 3: Multivariate Linear Regression\n",
    "\n",
    "\n",
    "\n",
    "# Formulate A and b, then solve the least squares problem\n",
    "\n",
    "A_2 = np.array([[1,3,2],\n",
    "    [1,-1,-2],\n",
    "    [1,-2,5],\n",
    "    [1,4,-5],\n",
    "    [1,-5,1]])\n",
    "b_2 = np.array([5,0,7,3,-2])\n",
    "a_t_a_2=A_2.T@A_2\n",
    "inverse_2 = la.inv(a_t_a_2)\n",
    "x_hat_2=inverse_2@A_2.T@b_2\n",
    "print(x_hat_2)\n",
    "\n",
    "\n",
    "# PLEASE UPDATE the value of c_0 and c_1 below based on the solution you obtained\n",
    "\n",
    "#  These current values below are just placeholders.\n",
    "#  As you change the values of c_0 and c_1, the line plotted below also changes.\n",
    "c_0 = 2.6086262 # the constant term\n",
    "c_1 = 0.87300319 # the coefficient for the x_1 term\n",
    "c_2 = 0.8298722 # the coefficient for the x_2 term\n",
    "\n",
    "\n",
    "# Do not modify the code below the line \n",
    "#-------------------------------------------------------\n",
    "# Visualizing the data and the regression line\n",
    "fig = plt.figure()\n",
    "ax = fig.gca(projection='3d')\n",
    "\n",
    "# plot points\n",
    "points = ax.scatter([1, 2, 3], [0, 3, -1], [4, 2, 1], c = 'r')\n",
    "\n",
    "# plot the surface\n",
    "X_1 = np.arange(-5, 5, 0.25)\n",
    "X_2 = np.arange(-5, 5, 0.25)\n",
    "X_1, X_2 = np.meshgrid(X_1, X_2)\n",
    "X_3 = c_0 + c_1 * X_1 + c_2 * X_2\n",
    "surf = ax.plot_wireframe(X_1, X_2, X_3)\n",
    "\n",
    "\n",
    "plt.show()"
   ]
  },
  {
   "cell_type": "markdown",
   "metadata": {
    "id": "Dy-f2WRxPLz2"
   },
   "source": [
    "The value of y would be 2.6086262   when both x1 and x2 are zero.  A 1 unit increase in X1 would result in a 0.87300319 increase in value of y, when x2 stays constant and 1 unit increase in X2, when x1 stays constant would result in a 0.8298722 increase in Y."
   ]
  },
  {
   "cell_type": "markdown",
   "metadata": {
    "id": "Elp8eY7oVrY_"
   },
   "source": [
    "## Reflections\n",
    "\n",
    "Please briefly write:\n",
    "1. One new thing that you learn from this project\n",
    "2. One aspect of this project that you found most interesting OR most challenging OR both.\n",
    "3. If you discuss any part of the project with anyone ( classmate(s), tutor(s), etc.), please ackowledge them here."
   ]
  },
  {
   "cell_type": "markdown",
   "metadata": {
    "id": "7XbFgYjRWL3v"
   },
   "source": [
    "1: I learn how to use numpy library in relationship with matrices and new methods in which a numpy array could be used.\n",
    "2: Q2b I found interesting and challenging both, as i was confused on how to add 1 before the values of the year, which was interesting and challenging on how to achieve it.\n",
    "3: https://www.geeksforgeeks.org/python-using-2d-arrays-lists-the-right-way/. used the help of this website to undertstand on how to approach 2b. I discussed some parts of the project with Brian from my class."
   ]
  }
 ],
 "metadata": {
  "colab": {
   "provenance": [
    {
     "file_id": "19F9lv6Ce1bqxp-GP_drYVcCZAI9lfGea",
     "timestamp": 1552426202349
    }
   ]
  },
  "kernelspec": {
   "display_name": "Python [conda env:dsua-111]",
   "language": "python",
   "name": "conda-env-dsua-111-py"
  },
  "language_info": {
   "codemirror_mode": {
    "name": "ipython",
    "version": 3
   },
   "file_extension": ".py",
   "mimetype": "text/x-python",
   "name": "python",
   "nbconvert_exporter": "python",
   "pygments_lexer": "ipython3",
   "version": "3.7.6"
  }
 },
 "nbformat": 4,
 "nbformat_minor": 1
}
